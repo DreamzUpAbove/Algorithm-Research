{
  "cells": [
    {
      "cell_type": "code",
      "source": [
        "!pip install qiskit"
      ],
      "metadata": {
        "id": "fCKKCVQa0t8G",
        "outputId": "c661ff8c-28c0-4f0d-db74-2177f3913950",
        "colab": {
          "base_uri": "https://localhost:8080/"
        }
      },
      "execution_count": null,
      "outputs": [
        {
          "output_type": "stream",
          "name": "stdout",
          "text": [
            "Looking in indexes: https://pypi.org/simple, https://us-python.pkg.dev/colab-wheels/public/simple/\n",
            "Collecting qiskit\n",
            "  Downloading qiskit-0.37.1.tar.gz (13 kB)\n",
            "Collecting qiskit-terra==0.21.1\n",
            "  Downloading qiskit_terra-0.21.1-cp37-cp37m-manylinux_2_17_x86_64.manylinux2014_x86_64.whl (6.7 MB)\n",
            "\u001b[K     |████████████████████████████████| 6.7 MB 30.9 MB/s \n",
            "\u001b[?25hCollecting qiskit-aer==0.10.4\n",
            "  Downloading qiskit_aer-0.10.4-cp37-cp37m-manylinux_2_12_x86_64.manylinux2010_x86_64.whl (18.0 MB)\n",
            "\u001b[K     |████████████████████████████████| 18.0 MB 365 kB/s \n",
            "\u001b[?25hCollecting qiskit-ibmq-provider==0.19.2\n",
            "  Downloading qiskit_ibmq_provider-0.19.2-py3-none-any.whl (240 kB)\n",
            "\u001b[K     |████████████████████████████████| 240 kB 52.8 MB/s \n",
            "\u001b[?25hRequirement already satisfied: numpy>=1.16.3 in /usr/local/lib/python3.7/dist-packages (from qiskit-aer==0.10.4->qiskit) (1.21.6)\n",
            "Requirement already satisfied: scipy>=1.0 in /usr/local/lib/python3.7/dist-packages (from qiskit-aer==0.10.4->qiskit) (1.7.3)\n",
            "Collecting requests-ntlm>=1.1.0\n",
            "  Downloading requests_ntlm-1.1.0-py2.py3-none-any.whl (5.7 kB)\n",
            "Collecting websocket-client>=1.0.1\n",
            "  Downloading websocket_client-1.3.3-py3-none-any.whl (54 kB)\n",
            "\u001b[K     |████████████████████████████████| 54 kB 3.5 MB/s \n",
            "\u001b[?25hRequirement already satisfied: python-dateutil>=2.8.0 in /usr/local/lib/python3.7/dist-packages (from qiskit-ibmq-provider==0.19.2->qiskit) (2.8.2)\n",
            "Requirement already satisfied: urllib3>=1.21.1 in /usr/local/lib/python3.7/dist-packages (from qiskit-ibmq-provider==0.19.2->qiskit) (1.24.3)\n",
            "Collecting websockets>=10.0\n",
            "  Downloading websockets-10.3-cp37-cp37m-manylinux_2_5_x86_64.manylinux1_x86_64.manylinux_2_12_x86_64.manylinux2010_x86_64.whl (112 kB)\n",
            "\u001b[K     |████████████████████████████████| 112 kB 59.6 MB/s \n",
            "\u001b[?25hRequirement already satisfied: requests>=2.19 in /usr/local/lib/python3.7/dist-packages (from qiskit-ibmq-provider==0.19.2->qiskit) (2.23.0)\n",
            "Collecting retworkx>=0.11.0\n",
            "  Downloading retworkx-0.11.0-cp37-cp37m-manylinux_2_5_x86_64.manylinux1_x86_64.manylinux_2_12_x86_64.manylinux2010_x86_64.whl (1.6 MB)\n",
            "\u001b[K     |████████████████████████████████| 1.6 MB 45.0 MB/s \n",
            "\u001b[?25hCollecting shared-memory38\n",
            "  Downloading shared_memory38-0.1.2-cp37-cp37m-manylinux_2_5_x86_64.manylinux1_x86_64.whl (25 kB)\n",
            "Collecting stevedore>=3.0.0\n",
            "  Downloading stevedore-3.5.0-py3-none-any.whl (49 kB)\n",
            "\u001b[K     |████████████████████████████████| 49 kB 7.5 MB/s \n",
            "\u001b[?25hCollecting ply>=3.10\n",
            "  Downloading ply-3.11-py2.py3-none-any.whl (49 kB)\n",
            "\u001b[K     |████████████████████████████████| 49 kB 6.7 MB/s \n",
            "\u001b[?25hRequirement already satisfied: sympy>=1.3 in /usr/local/lib/python3.7/dist-packages (from qiskit-terra==0.21.1->qiskit) (1.7.1)\n",
            "Collecting tweedledum<2.0,>=1.1\n",
            "  Downloading tweedledum-1.1.1-cp37-cp37m-manylinux_2_12_x86_64.manylinux2010_x86_64.whl (943 kB)\n",
            "\u001b[K     |████████████████████████████████| 943 kB 51.7 MB/s \n",
            "\u001b[?25hRequirement already satisfied: typing-extensions in /usr/local/lib/python3.7/dist-packages (from qiskit-terra==0.21.1->qiskit) (4.1.1)\n",
            "Collecting symengine>=0.9\n",
            "  Downloading symengine-0.9.2-cp37-cp37m-manylinux2010_x86_64.whl (37.5 MB)\n",
            "\u001b[K     |████████████████████████████████| 37.5 MB 49 kB/s \n",
            "\u001b[?25hRequirement already satisfied: dill>=0.3 in /usr/local/lib/python3.7/dist-packages (from qiskit-terra==0.21.1->qiskit) (0.3.5.1)\n",
            "Requirement already satisfied: psutil>=5 in /usr/local/lib/python3.7/dist-packages (from qiskit-terra==0.21.1->qiskit) (5.4.8)\n",
            "Requirement already satisfied: six>=1.5 in /usr/local/lib/python3.7/dist-packages (from python-dateutil>=2.8.0->qiskit-ibmq-provider==0.19.2->qiskit) (1.15.0)\n",
            "Requirement already satisfied: chardet<4,>=3.0.2 in /usr/local/lib/python3.7/dist-packages (from requests>=2.19->qiskit-ibmq-provider==0.19.2->qiskit) (3.0.4)\n",
            "Requirement already satisfied: certifi>=2017.4.17 in /usr/local/lib/python3.7/dist-packages (from requests>=2.19->qiskit-ibmq-provider==0.19.2->qiskit) (2022.6.15)\n",
            "Requirement already satisfied: idna<3,>=2.5 in /usr/local/lib/python3.7/dist-packages (from requests>=2.19->qiskit-ibmq-provider==0.19.2->qiskit) (2.10)\n",
            "Collecting cryptography>=1.3\n",
            "  Downloading cryptography-37.0.4-cp36-abi3-manylinux_2_24_x86_64.whl (4.1 MB)\n",
            "\u001b[K     |████████████████████████████████| 4.1 MB 56.9 MB/s \n",
            "\u001b[?25hCollecting ntlm-auth>=1.0.2\n",
            "  Downloading ntlm_auth-1.5.0-py2.py3-none-any.whl (29 kB)\n",
            "Requirement already satisfied: cffi>=1.12 in /usr/local/lib/python3.7/dist-packages (from cryptography>=1.3->requests-ntlm>=1.1.0->qiskit-ibmq-provider==0.19.2->qiskit) (1.15.1)\n",
            "Requirement already satisfied: pycparser in /usr/local/lib/python3.7/dist-packages (from cffi>=1.12->cryptography>=1.3->requests-ntlm>=1.1.0->qiskit-ibmq-provider==0.19.2->qiskit) (2.21)\n",
            "Collecting pbr!=2.1.0,>=2.0.0\n",
            "  Downloading pbr-5.9.0-py2.py3-none-any.whl (112 kB)\n",
            "\u001b[K     |████████████████████████████████| 112 kB 73.3 MB/s \n",
            "\u001b[?25hRequirement already satisfied: importlib-metadata>=1.7.0 in /usr/local/lib/python3.7/dist-packages (from stevedore>=3.0.0->qiskit-terra==0.21.1->qiskit) (4.12.0)\n",
            "Requirement already satisfied: zipp>=0.5 in /usr/local/lib/python3.7/dist-packages (from importlib-metadata>=1.7.0->stevedore>=3.0.0->qiskit-terra==0.21.1->qiskit) (3.8.1)\n",
            "Requirement already satisfied: mpmath>=0.19 in /usr/local/lib/python3.7/dist-packages (from sympy>=1.3->qiskit-terra==0.21.1->qiskit) (1.2.1)\n",
            "Building wheels for collected packages: qiskit\n",
            "  Building wheel for qiskit (setup.py) ... \u001b[?25l\u001b[?25hdone\n",
            "  Created wheel for qiskit: filename=qiskit-0.37.1-py3-none-any.whl size=12067 sha256=2d6989b6e5c183522b2200c36b1b1ad95e318c2f0abe02313133ea0903cc442d\n",
            "  Stored in directory: /root/.cache/pip/wheels/1c/3c/a3/bf8c2931e17937329c34a88b76cb88cbb7f9f2692fa7cfbcd1\n",
            "Successfully built qiskit\n",
            "Installing collected packages: pbr, tweedledum, symengine, stevedore, shared-memory38, retworkx, ply, ntlm-auth, cryptography, websockets, websocket-client, requests-ntlm, qiskit-terra, qiskit-ibmq-provider, qiskit-aer, qiskit\n",
            "Successfully installed cryptography-37.0.4 ntlm-auth-1.5.0 pbr-5.9.0 ply-3.11 qiskit-0.37.1 qiskit-aer-0.10.4 qiskit-ibmq-provider-0.19.2 qiskit-terra-0.21.1 requests-ntlm-1.1.0 retworkx-0.11.0 shared-memory38-0.1.2 stevedore-3.5.0 symengine-0.9.2 tweedledum-1.1.1 websocket-client-1.3.3 websockets-10.3\n"
          ]
        }
      ]
    },
    {
      "cell_type": "code",
      "source": [
        "import numpy as np\n",
        "from qiskit import QuantumCircuit, QuantumRegister, ClassicalRegister, transpile\n",
        "from qiskit.providers.aer import QasmSimulator\n",
        "from qiskit.visualization import plot_histogram"
      ],
      "metadata": {
        "id": "JciOYt4n0vUZ"
      },
      "execution_count": null,
      "outputs": []
    },
    {
      "cell_type": "code",
      "source": [
        "#basically the idea of this script is that we're going to generate random orderings of these two lists\n",
        "\n",
        "topics = ['vectors & spaces', 'quantum states as vectors / density matrices', 'matrices & linear transformations', 'eigenvectors & bases', 'diagonalization', 'tensor products & matrix exponentials']\n",
        "people = ['Jeffrey', 'Ragu', 'Ragha', 'Asiamah', 'Diana', 'Hyunyoung']"
      ],
      "metadata": {
        "id": "Al_7k4fwtxhJ"
      },
      "execution_count": null,
      "outputs": []
    },
    {
      "cell_type": "code",
      "source": [
        "# Use Aer's qasm_simulator\n",
        "simulator = QasmSimulator()\n",
        "\n",
        "# Create a Quantum Circuit acting on the q register\n",
        "qr = QuantumRegister(3, 'q')\n",
        "cr = ClassicalRegister(3, 'c')\n",
        "circuit = QuantumCircuit(qr, cr)"
      ],
      "metadata": {
        "id": "TK_sHoW31D6e"
      },
      "execution_count": null,
      "outputs": []
    },
    {
      "cell_type": "code",
      "source": [
        "#we use 3 random binary generators (inputs that pass through H gates have 50-50 chance of being measured as 0 or 1) to get a random 3 bit number which we can turn into a base 10 representation\n",
        "circuit.h(0)\n",
        "circuit.h(1)\n",
        "circuit.h(2)"
      ],
      "metadata": {
        "id": "f6mPHfdX1-Vd",
        "outputId": "6f0419d7-8862-47bd-9269-fa8bd6e0c64e",
        "colab": {
          "base_uri": "https://localhost:8080/"
        }
      },
      "execution_count": null,
      "outputs": [
        {
          "output_type": "execute_result",
          "data": {
            "text/plain": [
              "<qiskit.circuit.instructionset.InstructionSet at 0x7f6b45979510>"
            ]
          },
          "metadata": {},
          "execution_count": 14
        }
      ]
    },
    {
      "cell_type": "code",
      "source": [
        "circuit.measure(qr, cr)"
      ],
      "metadata": {
        "id": "nOI5kHK911nu",
        "outputId": "1444cb85-3ab2-41d7-9181-70a537c88a71",
        "colab": {
          "base_uri": "https://localhost:8080/"
        }
      },
      "execution_count": null,
      "outputs": [
        {
          "output_type": "execute_result",
          "data": {
            "text/plain": [
              "<qiskit.circuit.instructionset.InstructionSet at 0x7f6b4595a950>"
            ]
          },
          "metadata": {},
          "execution_count": 15
        }
      ]
    },
    {
      "cell_type": "code",
      "source": [
        "circuit.draw()"
      ],
      "metadata": {
        "id": "ZfC6iZIa1Kk4",
        "outputId": "72d27fa5-714f-4bc6-8abb-8b360d5f484f",
        "colab": {
          "base_uri": "https://localhost:8080/",
          "height": 171
        }
      },
      "execution_count": null,
      "outputs": [
        {
          "output_type": "execute_result",
          "data": {
            "text/plain": [
              "     ┌───┐┌─┐      \n",
              "q_0: ┤ H ├┤M├──────\n",
              "     ├───┤└╥┘┌─┐   \n",
              "q_1: ┤ H ├─╫─┤M├───\n",
              "     ├───┤ ║ └╥┘┌─┐\n",
              "q_2: ┤ H ├─╫──╫─┤M├\n",
              "     └───┘ ║  ║ └╥┘\n",
              "c: 3/══════╩══╩══╩═\n",
              "           0  1  2 "
            ],
            "text/html": [
              "<pre style=\"word-wrap: normal;white-space: pre;background: #fff0;line-height: 1.1;font-family: &quot;Courier New&quot;,Courier,monospace\">     ┌───┐┌─┐      \n",
              "q_0: ┤ H ├┤M├──────\n",
              "     ├───┤└╥┘┌─┐   \n",
              "q_1: ┤ H ├─╫─┤M├───\n",
              "     ├───┤ ║ └╥┘┌─┐\n",
              "q_2: ┤ H ├─╫──╫─┤M├\n",
              "     └───┘ ║  ║ └╥┘\n",
              "c: 3/══════╩══╩══╩═\n",
              "           0  1  2 </pre>"
            ]
          },
          "metadata": {},
          "execution_count": 16
        }
      ]
    },
    {
      "cell_type": "code",
      "source": [
        "compiled_circuit = transpile(circuit, simulator)\n"
      ],
      "metadata": {
        "id": "NffWXer41K43"
      },
      "execution_count": null,
      "outputs": []
    },
    {
      "cell_type": "code",
      "source": [
        "job = simulator.run(compiled_circuit, shots=1000)"
      ],
      "metadata": {
        "id": "yqJkjcmTib7B"
      },
      "execution_count": null,
      "outputs": []
    },
    {
      "cell_type": "code",
      "source": [
        "result = job.result()\n",
        "counts = result.get_counts(compiled_circuit)\n",
        "\n",
        "#Here we're sorting the counts of each outcome by number of counts which will give us an ordering of the outcomes\n",
        "# print(counts)\n",
        "counts = sorted(counts, key=lambda x: x[1], reverse = True)\n",
        "print(counts)"
      ],
      "metadata": {
        "id": "n7T_ofk1i_5Y",
        "outputId": "26523998-3355-4493-853a-8d164468e18f",
        "colab": {
          "base_uri": "https://localhost:8080/"
        }
      },
      "execution_count": null,
      "outputs": [
        {
          "output_type": "stream",
          "name": "stdout",
          "text": [
            "['010', '011', '111', '110', '001', '101', '000', '100']\n"
          ]
        }
      ]
    },
    {
      "cell_type": "code",
      "source": [
        "topic_ordering = [int(x,2) for x in counts if int(x,2) < 6] #remove the binary representations for 7 and 8 since we only have 6 topics\n",
        "topic_ordering"
      ],
      "metadata": {
        "id": "UDHvQZ0rxLE1",
        "outputId": "86080889-6180-4d6a-bf38-1098b4b47cbd",
        "colab": {
          "base_uri": "https://localhost:8080/"
        }
      },
      "execution_count": null,
      "outputs": [
        {
          "output_type": "execute_result",
          "data": {
            "text/plain": [
              "[2, 3, 1, 5, 0, 4]"
            ]
          },
          "metadata": {},
          "execution_count": 27
        }
      ]
    },
    {
      "cell_type": "code",
      "source": [
        "#do the same for people\n",
        "job2 = simulator.run(compiled_circuit, shots=1000)"
      ],
      "metadata": {
        "id": "Y1_kvXq9w9PA"
      },
      "execution_count": null,
      "outputs": []
    },
    {
      "cell_type": "code",
      "source": [
        "result2 = job2.result()\n",
        "counts2 = result2.get_counts(compiled_circuit)\n",
        "\n",
        "# print(counts)\n",
        "counts2 = sorted(counts2, key=lambda x: x[1], reverse = True)\n",
        "print(counts2)"
      ],
      "metadata": {
        "id": "4dZl_IUUx1H7",
        "outputId": "948f8cbd-52ad-493f-b3f6-b78224c3f2fe",
        "colab": {
          "base_uri": "https://localhost:8080/"
        }
      },
      "execution_count": null,
      "outputs": [
        {
          "output_type": "stream",
          "name": "stdout",
          "text": [
            "['011', '111', '010', '110', '101', '001', '000', '100']\n"
          ]
        }
      ]
    },
    {
      "cell_type": "code",
      "source": [
        "people_ordering = [int(x,2) for x in counts2 if int(x,2) < 6]\n",
        "people_ordering"
      ],
      "metadata": {
        "id": "sWZh6bdQx2OC",
        "outputId": "9e1142ad-fe78-4f73-d75a-34ddd3e359b8",
        "colab": {
          "base_uri": "https://localhost:8080/"
        }
      },
      "execution_count": null,
      "outputs": [
        {
          "output_type": "execute_result",
          "data": {
            "text/plain": [
              "[3, 2, 5, 1, 0, 4]"
            ]
          },
          "metadata": {},
          "execution_count": 34
        }
      ]
    },
    {
      "cell_type": "code",
      "source": [
        "#now we just have to match up the two ordering arrays\n",
        "for i, indices in enumerate(zip(topic_ordering, people_ordering)):\n",
        "  ti,pi = indices\n",
        "  print(f\"{i+1}. {people[pi]} \\t---\\t{topics[ti]}\")"
      ],
      "metadata": {
        "id": "oSR2GS_vx50f",
        "outputId": "ababc768-250e-417f-d5e9-608fe4a298f3",
        "colab": {
          "base_uri": "https://localhost:8080/"
        }
      },
      "execution_count": null,
      "outputs": [
        {
          "output_type": "stream",
          "name": "stdout",
          "text": [
            "1. Asiamah \t---\tmatrices & linear transformations\n",
            "2. Ragha \t---\teigenvectors & bases\n",
            "3. Hyunyoung \t---\tquantum states as vectors / density matrices\n",
            "4. Ragu \t---\ttensor products & matrix exponentials\n",
            "5. Jeffrey \t---\tvectors & spaces\n",
            "6. Diana \t---\tdiagonalization\n"
          ]
        }
      ]
    },
    {
      "cell_type": "code",
      "source": [
        ""
      ],
      "metadata": {
        "id": "OHqCrZutyXal"
      },
      "execution_count": null,
      "outputs": []
    }
  ],
  "metadata": {
    "colab": {
      "collapsed_sections": [],
      "name": "Quantum RNG",
      "toc_visible": true,
      "provenance": []
    },
    "kernelspec": {
      "display_name": "Python 3",
      "name": "python3"
    }
  },
  "nbformat": 4,
  "nbformat_minor": 0
}