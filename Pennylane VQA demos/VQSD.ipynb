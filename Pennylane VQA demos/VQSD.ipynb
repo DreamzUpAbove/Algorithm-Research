{
 "cells": [
  {
   "cell_type": "markdown",
   "id": "fb05f54c-4510-4477-8232-7973f3db860b",
   "metadata": {},
   "source": [
    "# VQSD Demo\n",
    "This is a circuit demonstratinga (not yet) scalable implementation of the VQSD algorithm in pennylane."
   ]
  },
  {
   "cell_type": "code",
   "execution_count": 34,
   "id": "8f5b8092-d170-45be-8896-92579d5f7d69",
   "metadata": {},
   "outputs": [],
   "source": [
    "# imports\n",
    "import pennylane as qml\n",
    "from pennylane import numpy as np"
   ]
  },
  {
   "cell_type": "code",
   "execution_count": 35,
   "id": "b333484d-c3ee-4eef-b3b3-0dce90ed9420",
   "metadata": {},
   "outputs": [],
   "source": [
    "# define device\n",
    "n_qubits = 1\n",
    "dev = qml.device(\"default.qubit\", wires=n_qubits*2)"
   ]
  },
  {
   "cell_type": "code",
   "execution_count": 36,
   "id": "65cad705-ea30-4cc6-aba3-cd0e6376f1d2",
   "metadata": {},
   "outputs": [],
   "source": [
    "n_layers = 2 # num parameter layers\n",
    "shape = qml.RandomLayers.shape(n_layers=n_layers, n_rotations=2) # properly define the shape of the gate layers"
   ]
  },
  {
   "cell_type": "code",
   "execution_count": 37,
   "id": "5267476c-668c-460a-acf2-88c7b175e836",
   "metadata": {},
   "outputs": [],
   "source": [
    "# helper function for generating the operator for expval (since for some reason I can't find a way to do a @ b @ c @ ... in a compact fashion)\n",
    "def generate_operator(n_qubits):\n",
    "    if n_qubits == 0:\n",
    "        return None\n",
    "    if n_qubits == 1:\n",
    "        return qml.PauliZ(0)\n",
    "    return generate_operator(n_qubits - 1) @ qml.PauliZ(n_qubits - 1)"
   ]
  },
  {
   "cell_type": "code",
   "execution_count": 38,
   "id": "cb0a731e-3573-442a-91c5-2a08e6c4a3de",
   "metadata": {},
   "outputs": [
    {
     "name": "stdout",
     "output_type": "stream",
     "text": [
      "0: ──H──RX(0.23)──RX(0.18)──RZ(0.06)──RY(0.39)─╭●──Z─┤  <Z>  \n",
      "1: ──H──RX(0.23)──RX(0.18)──RZ(0.06)──RY(0.39)─╰X────┤  Probs\n"
     ]
    }
   ],
   "source": [
    "# define circuit\n",
    "@qml.qnode(dev)\n",
    "def circuit1(weights):\n",
    "    for i in range(n_qubits*2): # initial state TODO: change this to be able to represent any initial matrix\n",
    "        qml.Hadamard(i)\n",
    "        # qml.RX(weights[0], wires=i)\n",
    "        # qml.RY(weights[1], wires=i)\n",
    "        # qml.RZ(weights[2], wires=i)\n",
    "    qml.RandomLayers(weights=weights, wires=range(n_qubits)) # should be the alternating one but idk how to implement that\n",
    "    qml.RandomLayers(weights=weights, wires=range(n_qubits, 2*n_qubits)) # there's a second circuit with the exact same weights as the first (cuz we have to calculate both the purity and the trace of the dephased matrix)\n",
    "    \n",
    "    # cost function (DIP test)\n",
    "    qml.CNOT(wires=[0,1])\n",
    "    operator = generate_operator(n_qubits)\n",
    "    purity = qml.expval(qml.PauliZ(0)) # trace(p^2)\n",
    "    dephase = qml.probs(wires=range(n_qubits, n_qubits*2)) # trace(dephased(p^2))\n",
    "    return purity, dephase\n",
    "\n",
    "print(qml.draw(circuit1, expansion_strategy=\"device\")(weights))"
   ]
  },
  {
   "cell_type": "code",
   "execution_count": 40,
   "id": "7a8e212c-4e1b-40f5-840d-3d60ab575649",
   "metadata": {},
   "outputs": [],
   "source": [
    "# cost function\n",
    "def cost_fn(param):\n",
    "    output = circuit1(param)\n",
    "    return output[0] - output[1] # tr(p^2) - tr(Z(p^2))"
   ]
  },
  {
   "cell_type": "code",
   "execution_count": 39,
   "id": "550c9281-999a-4a09-a10b-cd1d6bf1f6a8",
   "metadata": {},
   "outputs": [
    {
     "name": "stdout",
     "output_type": "stream",
     "text": [
      "-0.8379247465287891\n"
     ]
    }
   ],
   "source": [
    "#initialize random weights for the circuit\n",
    "init_params = np.random.random(size=shape)\n",
    "print(cost_fn(init_params))"
   ]
  },
  {
   "cell_type": "code",
   "execution_count": 41,
   "id": "506e09c4-b70f-4201-9ac2-cc3b2f3c5545",
   "metadata": {},
   "outputs": [
    {
     "name": "stdout",
     "output_type": "stream",
     "text": [
      "Cost after step     5: -1.9999908\n",
      "Cost after step    10: -2.0000000\n",
      "Cost after step    15: -2.0000000\n",
      "Cost after step    20: -2.0000000\n",
      "Cost after step    25: -2.0000000\n",
      "Cost after step    30: -2.0000000\n",
      "Cost after step    35: -2.0000000\n",
      "Cost after step    40: -2.0000000\n",
      "Cost after step    45: -2.0000000\n",
      "Cost after step    50: -2.0000000\n",
      "Cost after step    55: -2.0000000\n",
      "Cost after step    60: -2.0000000\n",
      "Cost after step    65: -2.0000000\n",
      "Cost after step    70: -2.0000000\n",
      "Cost after step    75: -2.0000000\n",
      "Cost after step    80: -2.0000000\n",
      "Cost after step    85: -2.0000000\n",
      "Cost after step    90: -2.0000000\n",
      "Cost after step    95: -2.0000000\n",
      "Cost after step   100: -2.0000000\n",
      "Optimized rotation angles: [[ 2.12339111e-01  1.81824967e-01]\n",
      " [-8.27329658e-18  1.57079633e+00]]\n"
     ]
    }
   ],
   "source": [
    "# optimization loop\n",
    "opt = qml.GradientDescentOptimizer(stepsize=0.4)\n",
    "steps = 100\n",
    "params = init_params\n",
    "\n",
    "for i in range(steps):\n",
    "    params = opt.step(cost_fn, params)\n",
    "    if (i + 1) % 5 == 0:\n",
    "        print(\"Cost after step {:5d}: {: .7f}\".format(i + 1, cost_fn(params)))\n",
    "\n",
    "print(\"Optimized rotation angles: {}\".format(params))"
   ]
  },
  {
   "cell_type": "code",
   "execution_count": null,
   "id": "9a2af983-4180-473d-8577-df8f662ff22d",
   "metadata": {},
   "outputs": [],
   "source": []
  }
 ],
 "metadata": {
  "kernelspec": {
   "display_name": "PennyLane",
   "language": "python",
   "name": "pennylane"
  },
  "language_info": {
   "codemirror_mode": {
    "name": "ipython",
    "version": 3
   },
   "file_extension": ".py",
   "mimetype": "text/x-python",
   "name": "python",
   "nbconvert_exporter": "python",
   "pygments_lexer": "ipython3",
   "version": "3.9.13"
  }
 },
 "nbformat": 4,
 "nbformat_minor": 5
}
