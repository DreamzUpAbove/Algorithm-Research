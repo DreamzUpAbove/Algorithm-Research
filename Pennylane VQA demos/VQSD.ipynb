{
 "cells": [
  {
   "cell_type": "markdown",
   "id": "fb05f54c-4510-4477-8232-7973f3db860b",
   "metadata": {},
   "source": [
    "# VQSD Demo\n",
    "This is a circuit demonstratinga (not yet) scalable implementation of the VQSD algorithm in pennylane."
   ]
  },
  {
   "cell_type": "code",
   "execution_count": 2,
   "id": "8f5b8092-d170-45be-8896-92579d5f7d69",
   "metadata": {},
   "outputs": [],
   "source": [
    "# imports\n",
    "import pennylane as qml\n",
    "from pennylane import numpy as np"
   ]
  },
  {
   "cell_type": "code",
   "execution_count": 38,
   "id": "b333484d-c3ee-4eef-b3b3-0dce90ed9420",
   "metadata": {},
   "outputs": [],
   "source": [
    "# define device\n",
    "n_qubits = 2\n",
    "dev = qml.device(\"default.qubit\", wires=n_qubits*2)"
   ]
  },
  {
   "cell_type": "code",
   "execution_count": 39,
   "id": "65cad705-ea30-4cc6-aba3-cd0e6376f1d2",
   "metadata": {},
   "outputs": [],
   "source": [
    "n_layers = 2 # num parameter layers\n",
    "shape = qml.RandomLayers.shape(n_layers=n_layers, n_rotations=2) # properly define the shape of the gate layers"
   ]
  },
  {
   "cell_type": "code",
   "execution_count": 40,
   "id": "5267476c-668c-460a-acf2-88c7b175e836",
   "metadata": {},
   "outputs": [],
   "source": [
    "# helper function for generating the operator for expval (since for some reason I can't find a way to do a @ b @ c @ ... in a compact fashion)\n",
    "def generate_operator(n_qubits):\n",
    "    if n_qubits == 0:\n",
    "        return None\n",
    "    if n_qubits == 1:\n",
    "        return qml.PauliZ(0)\n",
    "    return generate_operator(n_qubits - 1) @ qml.PauliZ(n_qubits - 1)"
   ]
  },
  {
   "cell_type": "code",
   "execution_count": 41,
   "id": "9facf9b9-6bad-435a-9e38-779bccf9368b",
   "metadata": {},
   "outputs": [
    {
     "name": "stdout",
     "output_type": "stream",
     "text": [
      "0: ──H─╭●────╭X────╭●────┤ ╭<Z@Z>\n",
      "1: ──H─│──╭●─│──╭X─│──╭●─┤ ╰<Z@Z>\n",
      "2: ──H─╰X─│──╰●─│──╰X─│──┤       \n",
      "3: ──H────╰X────╰●────╰X─┤       \n"
     ]
    }
   ],
   "source": [
    "# circuit for purity\n",
    "@qml.qnode(dev)\n",
    "def circuit0(weights):\n",
    "    for i in range(n_qubits*2): # initial state TODO: change this to be able to represent any initial matrix\n",
    "        qml.Hadamard(i)\n",
    "        \n",
    "    # swap operator\n",
    "    for i in range(n_qubits):\n",
    "        qml.CNOT(wires=[i, n_qubits + i])\n",
    "    for i in range(n_qubits):\n",
    "        qml.CNOT(wires=[n_qubits + i, i])\n",
    "    for i in range(n_qubits):\n",
    "        qml.CNOT(wires=[i, n_qubits + i])\n",
    "        \n",
    "    return qml.expval(generate_operator(n_qubits))\n",
    "print(qml.draw(circuit0)(weights))"
   ]
  },
  {
   "cell_type": "code",
   "execution_count": 42,
   "id": "cb0a731e-3573-442a-91c5-2a08e6c4a3de",
   "metadata": {},
   "outputs": [
    {
     "name": "stdout",
     "output_type": "stream",
     "text": [
      "0: ──H─────────────────────╭X─╭X──RZ(0.18)─╭●──RY(0.30)─╭●─┤       \n",
      "1: ──H──RX(0.21)──RX(0.18)─╰●─╰●───────────╰X───────────╰X─┤       \n",
      "2: ──H─────────────────────╭X─╭X──RZ(0.18)─╭●──RY(0.30)────┤ ╭Probs\n",
      "3: ──H──RX(0.21)──RX(0.18)─╰●─╰●───────────╰X──────────────┤ ╰Probs\n"
     ]
    }
   ],
   "source": [
    "# circuit for dephase\n",
    "@qml.qnode(dev)\n",
    "def circuit1(weights):\n",
    "    for i in range(n_qubits*2): # initial state TODO: change this to be able to represent any initial matrix\n",
    "        qml.Hadamard(i)\n",
    "        # qml.RX(weights[0], wires=i)\n",
    "        # qml.RY(weights[1], wires=i)\n",
    "        # qml.RZ(weights[2], wires=i)\n",
    "    qml.RandomLayers(weights=weights, wires=range(n_qubits)) # should be the alternating one but idk how to implement that\n",
    "    qml.RandomLayers(weights=weights, wires=range(n_qubits, 2*n_qubits)) # second circuit with the exact same weights as the first\n",
    "    \n",
    "    # cost function (DIP test)\n",
    "    qml.CNOT(wires=[0,1])\n",
    "    operator = generate_operator(n_qubits)\n",
    "    probs = qml.probs(wires=range(n_qubits, n_qubits*2)) # trace(dephased(p^2))\n",
    "    return probs\n",
    "\n",
    "weights = np.random.random(size=shape)\n",
    "print(qml.draw(circuit1, expansion_strategy=\"device\")(init_params))"
   ]
  },
  {
   "cell_type": "code",
   "execution_count": 43,
   "id": "7a8e212c-4e1b-40f5-840d-3d60ab575649",
   "metadata": {},
   "outputs": [],
   "source": [
    "# cost function\n",
    "def cost_fn(param):\n",
    "    purity = circuit0(param)\n",
    "    probs = circuit1(param)\n",
    "    dephase = probs[0]\n",
    "    return purity - probs[0] # tr(p^2) - tr(Z(p^2))"
   ]
  },
  {
   "cell_type": "code",
   "execution_count": 44,
   "id": "550c9281-999a-4a09-a10b-cd1d6bf1f6a8",
   "metadata": {},
   "outputs": [
    {
     "name": "stdout",
     "output_type": "stream",
     "text": [
      "-0.13050167241792113\n"
     ]
    }
   ],
   "source": [
    "#initialize random weights for the circuit\n",
    "init_params = np.random.random(size=shape)\n",
    "print(cost_fn(init_params))"
   ]
  },
  {
   "cell_type": "code",
   "execution_count": 45,
   "id": "506e09c4-b70f-4201-9ac2-cc3b2f3c5545",
   "metadata": {},
   "outputs": [
    {
     "name": "stdout",
     "output_type": "stream",
     "text": [
      "Cost after step     5: -0.2302128\n",
      "Cost after step    10: -0.3367425\n",
      "Cost after step    15: -0.4198709\n",
      "Cost after step    20: -0.4669463\n",
      "Cost after step    25: -0.4876531\n",
      "Cost after step    30: -0.4955832\n",
      "Cost after step    35: -0.4984458\n",
      "Cost after step    40: -0.4994563\n",
      "Cost after step    45: -0.4998102\n",
      "Cost after step    50: -0.4999338\n",
      "Cost after step    55: -0.4999769\n",
      "Cost after step    60: -0.4999920\n",
      "Cost after step    65: -0.4999972\n",
      "Cost after step    70: -0.4999990\n",
      "Cost after step    75: -0.4999997\n",
      "Cost after step    80: -0.4999999\n",
      "Cost after step    85: -0.5000000\n",
      "Cost after step    90: -0.5000000\n",
      "Cost after step    95: -0.5000000\n",
      "Cost after step   100: -0.5000000\n",
      "Optimized rotation angles: [[ 1.81824967e-01  1.83404510e-01]\n",
      " [ 4.13118286e-05 -1.57068514e+00]]\n"
     ]
    }
   ],
   "source": [
    "# optimization loop\n",
    "opt = qml.GradientDescentOptimizer(stepsize=0.4)\n",
    "steps = 100\n",
    "params = init_params\n",
    "\n",
    "for i in range(steps):\n",
    "    params = opt.step(cost_fn, params)\n",
    "    if (i + 1) % 5 == 0:\n",
    "        print(\"Cost after step {:5d}: {: .7f}\".format(i + 1, cost_fn(params)))\n",
    "\n",
    "print(\"Optimized rotation angles: {}\".format(params))"
   ]
  },
  {
   "cell_type": "code",
   "execution_count": null,
   "id": "9a2af983-4180-473d-8577-df8f662ff22d",
   "metadata": {},
   "outputs": [],
   "source": []
  }
 ],
 "metadata": {
  "kernelspec": {
   "display_name": "PennyLane",
   "language": "python",
   "name": "pennylane"
  },
  "language_info": {
   "codemirror_mode": {
    "name": "ipython",
    "version": 3
   },
   "file_extension": ".py",
   "mimetype": "text/x-python",
   "name": "python",
   "nbconvert_exporter": "python",
   "pygments_lexer": "ipython3",
   "version": "3.9.13"
  }
 },
 "nbformat": 4,
 "nbformat_minor": 5
}
